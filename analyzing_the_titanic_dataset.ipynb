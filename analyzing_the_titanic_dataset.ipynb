{
 "cells": [
  {
   "cell_type": "code",
   "execution_count": 44,
   "metadata": {
    "collapsed": true
   },
   "outputs": [],
   "source": [
    "import pandas as pd"
   ]
  },
  {
   "cell_type": "code",
   "execution_count": 48,
   "metadata": {
    "collapsed": false
   },
   "outputs": [],
   "source": [
    "train = pd.read_csv(\"~/Downloads/train.csv\")"
   ]
  },
  {
   "cell_type": "code",
   "execution_count": 49,
   "metadata": {
    "collapsed": false
   },
   "outputs": [],
   "source": [
    "def format(dataframe):\n",
    "    \"\"\"Given a pandas dataframe, returns a new formatted dataframe.\n",
    "    \n",
    "    Args\n",
    "        dataframe: a pd.DataFrame\n",
    "    \n",
    "    Returns\n",
    "        formatted: an new pd.dataframe displaying the unique values, number of unique values, and data type\n",
    "        from the dataframe\n",
    "    \"\"\"\n",
    "    formatted = pd.DataFrame(columns = [\"Data Name\",\"Unique Values\",\"Number of Unique Values\",\"Data Type\"])\n",
    "    formatted[\"Data Name\"] = dataframe.columns\n",
    "    i=0\n",
    "     \n",
    "    for col_name in dataframe:\n",
    "      formatted[\"Unique Values\"][i] = dataframe[col_name].unique()  \n",
    "      formatted[\"Number of Unique Values\"][i] = dataframe[col_name].nunique()\n",
    "      formatted[\"Data Type\"][i] = dataframe[col_name].dtype\n",
    "      i += 1\n",
    "     \n",
    "    return formatted\n",
    "    \n",
    "   "
   ]
  },
  {
   "cell_type": "code",
   "execution_count": 50,
   "metadata": {
    "collapsed": false
   },
   "outputs": [
    {
     "data": {
      "text/html": [
       "<div>\n",
       "<table border=\"1\" class=\"dataframe\">\n",
       "  <thead>\n",
       "    <tr style=\"text-align: right;\">\n",
       "      <th></th>\n",
       "      <th>Data Name</th>\n",
       "      <th>Unique Values</th>\n",
       "      <th>Number of Unique Values</th>\n",
       "      <th>Data Type</th>\n",
       "    </tr>\n",
       "  </thead>\n",
       "  <tbody>\n",
       "    <tr>\n",
       "      <th>0</th>\n",
       "      <td>PassengerId</td>\n",
       "      <td>[1, 2, 3, 4, 5, 6, 7, 8, 9, 10, 11, 12, 13, 14...</td>\n",
       "      <td>891</td>\n",
       "      <td>int64</td>\n",
       "    </tr>\n",
       "    <tr>\n",
       "      <th>1</th>\n",
       "      <td>Survived</td>\n",
       "      <td>[0, 1]</td>\n",
       "      <td>2</td>\n",
       "      <td>int64</td>\n",
       "    </tr>\n",
       "    <tr>\n",
       "      <th>2</th>\n",
       "      <td>Pclass</td>\n",
       "      <td>[3, 1, 2]</td>\n",
       "      <td>3</td>\n",
       "      <td>int64</td>\n",
       "    </tr>\n",
       "    <tr>\n",
       "      <th>3</th>\n",
       "      <td>Name</td>\n",
       "      <td>[Braund, Mr. Owen Harris, Cumings, Mrs. John B...</td>\n",
       "      <td>891</td>\n",
       "      <td>object</td>\n",
       "    </tr>\n",
       "    <tr>\n",
       "      <th>4</th>\n",
       "      <td>Sex</td>\n",
       "      <td>[male, female]</td>\n",
       "      <td>2</td>\n",
       "      <td>object</td>\n",
       "    </tr>\n",
       "    <tr>\n",
       "      <th>5</th>\n",
       "      <td>Age</td>\n",
       "      <td>[22.0, 38.0, 26.0, 35.0, nan, 54.0, 2.0, 27.0,...</td>\n",
       "      <td>88</td>\n",
       "      <td>float64</td>\n",
       "    </tr>\n",
       "    <tr>\n",
       "      <th>6</th>\n",
       "      <td>SibSp</td>\n",
       "      <td>[1, 0, 3, 4, 2, 5, 8]</td>\n",
       "      <td>7</td>\n",
       "      <td>int64</td>\n",
       "    </tr>\n",
       "    <tr>\n",
       "      <th>7</th>\n",
       "      <td>Parch</td>\n",
       "      <td>[0, 1, 2, 5, 3, 4, 6]</td>\n",
       "      <td>7</td>\n",
       "      <td>int64</td>\n",
       "    </tr>\n",
       "    <tr>\n",
       "      <th>8</th>\n",
       "      <td>Ticket</td>\n",
       "      <td>[A/5 21171, PC 17599, STON/O2. 3101282, 113803...</td>\n",
       "      <td>681</td>\n",
       "      <td>object</td>\n",
       "    </tr>\n",
       "    <tr>\n",
       "      <th>9</th>\n",
       "      <td>Fare</td>\n",
       "      <td>[7.25, 71.2833, 7.925, 53.1, 8.05, 8.4583, 51....</td>\n",
       "      <td>248</td>\n",
       "      <td>float64</td>\n",
       "    </tr>\n",
       "    <tr>\n",
       "      <th>10</th>\n",
       "      <td>Cabin</td>\n",
       "      <td>[nan, C85, C123, E46, G6, C103, D56, A6, C23 C...</td>\n",
       "      <td>147</td>\n",
       "      <td>object</td>\n",
       "    </tr>\n",
       "    <tr>\n",
       "      <th>11</th>\n",
       "      <td>Embarked</td>\n",
       "      <td>[S, C, Q, nan]</td>\n",
       "      <td>3</td>\n",
       "      <td>object</td>\n",
       "    </tr>\n",
       "  </tbody>\n",
       "</table>\n",
       "</div>"
      ],
      "text/plain": [
       "      Data Name                                      Unique Values  \\\n",
       "0   PassengerId  [1, 2, 3, 4, 5, 6, 7, 8, 9, 10, 11, 12, 13, 14...   \n",
       "1      Survived                                             [0, 1]   \n",
       "2        Pclass                                          [3, 1, 2]   \n",
       "3          Name  [Braund, Mr. Owen Harris, Cumings, Mrs. John B...   \n",
       "4           Sex                                     [male, female]   \n",
       "5           Age  [22.0, 38.0, 26.0, 35.0, nan, 54.0, 2.0, 27.0,...   \n",
       "6         SibSp                              [1, 0, 3, 4, 2, 5, 8]   \n",
       "7         Parch                              [0, 1, 2, 5, 3, 4, 6]   \n",
       "8        Ticket  [A/5 21171, PC 17599, STON/O2. 3101282, 113803...   \n",
       "9          Fare  [7.25, 71.2833, 7.925, 53.1, 8.05, 8.4583, 51....   \n",
       "10        Cabin  [nan, C85, C123, E46, G6, C103, D56, A6, C23 C...   \n",
       "11     Embarked                                     [S, C, Q, nan]   \n",
       "\n",
       "   Number of Unique Values Data Type  \n",
       "0                      891     int64  \n",
       "1                        2     int64  \n",
       "2                        3     int64  \n",
       "3                      891    object  \n",
       "4                        2    object  \n",
       "5                       88   float64  \n",
       "6                        7     int64  \n",
       "7                        7     int64  \n",
       "8                      681    object  \n",
       "9                      248   float64  \n",
       "10                     147    object  \n",
       "11                       3    object  "
      ]
     },
     "execution_count": 50,
     "metadata": {},
     "output_type": "execute_result"
    }
   ],
   "source": [
    "all_unique_values(train)"
   ]
  },
  {
   "cell_type": "markdown",
   "metadata": {},
   "source": [
    "Problems found in the data:\n",
    "- PassengerID is an index column, therefore an unnecessary column.\n",
    "- Survived is the answer we're trying to solve for, therefore an unnecessary column.\n",
    "- Pclass, SibSp, and Parch have ambiguous values. \n",
    "- Name has too many unique values.\n",
    "- Sex and Embarked don't use numerical values.\n",
    "- Age has dirty data.\n",
    "- Ticket and Cabin has too many unique values, values are alphanumeric."
   ]
  },
  {
   "cell_type": "markdown",
   "metadata": {},
   "source": [
    "Objectives:\n",
    "- Delete PassengerID and Survived columns\n",
    "- Use binary features for the values in Pclass, Sex, SibSp, Parch, and Embarked\n",
    "- Clean up the data in Age\n",
    "- Figure out how to manipulate the Ticket and Cabin data into simpler values\n",
    "- Determine whether names should be used as valid data\n"
   ]
  },
  {
   "cell_type": "markdown",
   "metadata": {},
   "source": []
  }
 ],
 "metadata": {
  "kernelspec": {
   "display_name": "Python 3",
   "language": "python",
   "name": "python3"
  },
  "language_info": {
   "codemirror_mode": {
    "name": "ipython",
    "version": 3
   },
   "file_extension": ".py",
   "mimetype": "text/x-python",
   "name": "python",
   "nbconvert_exporter": "python",
   "pygments_lexer": "ipython3",
   "version": "3.5.1+"
  }
 },
 "nbformat": 4,
 "nbformat_minor": 0
}
