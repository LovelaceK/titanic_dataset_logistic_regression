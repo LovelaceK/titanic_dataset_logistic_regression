{
 "cells": [
  {
   "cell_type": "code",
   "execution_count": 1,
   "metadata": {
    "collapsed": true
   },
   "outputs": [],
   "source": [
    "import pandas as pd"
   ]
  },
  {
   "cell_type": "code",
   "execution_count": 2,
   "metadata": {
    "collapsed": false
   },
   "outputs": [],
   "source": [
    "train = pd.read_csv(\"~/Downloads/train.csv\")\n",
    "# series 1-D > dataframe 2-D"
   ]
  },
  {
   "cell_type": "code",
   "execution_count": 3,
   "metadata": {
    "collapsed": false
   },
   "outputs": [],
   "source": [
    "def all_unique_values(dataframe):\n",
    "    \"\"\"Given a pandas dataframe, returns an array containing all of the unique values.\n",
    "    \n",
    "    Args\n",
    "        dataframe: a pd.DataFrame\n",
    "    \n",
    "    Returns\n",
    "        all_uni_vals: an array of all unique values in dataframe\n",
    "    \"\"\"\n",
    "    for col_name in dataframe:\n",
    "        print(col_name)\n",
    "        print(dataframe[col_name].unique())\n",
    "    "
   ]
  },
  {
   "cell_type": "code",
   "execution_count": 4,
   "metadata": {
    "collapsed": false
   },
   "outputs": [
    {
     "name": "stdout",
     "output_type": "stream",
     "text": [
      "PassengerId\n",
      "Survived\n",
      "Pclass\n",
      "Name\n",
      "Sex\n",
      "Age\n",
      "SibSp\n",
      "Parch\n",
      "Ticket\n",
      "Fare\n",
      "Cabin\n",
      "Embarked\n"
     ]
    }
   ],
   "source": [
    "all_unique_values(train)"
   ]
  },
  {
   "cell_type": "markdown",
   "metadata": {},
   "source": [
    "Problems found in the data:\n",
    "- PassengerID is an index column, therefore an unnecessary column.\n",
    "- Survived is the answer we're trying to solve for, therefore an unnecessary column.\n",
    "- Pclass, SibSp, and Parch have ambiguous values. Don't know what they determine.\n",
    "- Name has too many unique values.\n",
    "- Sex doesn't use numerical values.\n",
    "- Age has dirty data.\n",
    "- Ticket has too many unique values, values are alphanumeric.\n",
    "- Cabin has too many unique values, values are alphanumeric.\n",
    "- Embarked doesn't use numerical values."
   ]
  },
  {
   "cell_type": "markdown",
   "metadata": {},
   "source": [
    "Objectives:\n",
    "- Delete PassengerID and Survived columns\n",
    "- Use binary columns for the values in Pclass, Sex, SibSp, Parch, and Embarked\n",
    "- Clean up the data in Age\n",
    "- Figure out how to manipulate the Ticket and Cabin data into simpler values\n",
    "- Determine whether names can be used as valid data\n"
   ]
  },
  {
   "cell_type": "markdown",
   "metadata": {},
   "source": []
  }
 ],
 "metadata": {
  "kernelspec": {
   "display_name": "Python 3",
   "language": "python",
   "name": "python3"
  },
  "language_info": {
   "codemirror_mode": {
    "name": "ipython",
    "version": 3
   },
   "file_extension": ".py",
   "mimetype": "text/x-python",
   "name": "python",
   "nbconvert_exporter": "python",
   "pygments_lexer": "ipython3",
   "version": "3.5.1+"
  }
 },
 "nbformat": 4,
 "nbformat_minor": 0
}
